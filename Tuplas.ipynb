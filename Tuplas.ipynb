{
  "nbformat": 4,
  "nbformat_minor": 0,
  "metadata": {
    "colab": {
      "name": "Untitled0.ipynb",
      "provenance": [],
      "collapsed_sections": [],
      "include_colab_link": true
    },
    "kernelspec": {
      "name": "python3",
      "display_name": "Python 3"
    }
  },
  "cells": [
    {
      "cell_type": "markdown",
      "metadata": {
        "id": "view-in-github",
        "colab_type": "text"
      },
      "source": [
        "<a href=\"https://colab.research.google.com/github/jdramirezzu/python-community/blob/main/Tuplas.ipynb\" target=\"_parent\"><img src=\"https://colab.research.google.com/assets/colab-badge.svg\" alt=\"Open In Colab\"/></a>"
      ]
    },
    {
      "cell_type": "markdown",
      "metadata": {
        "id": "6rDpsqVyBql0"
      },
      "source": [
        "# TUPLAS"
      ]
    },
    {
      "cell_type": "markdown",
      "metadata": {
        "id": "yFklUHkDBkPL"
      },
      "source": [
        "Una tupla es una secuencia de valores que se organiza de la misma forma que una lista, pero cuyo principal diferenciador de esta última, es que los elementos que componen la tupla son inmutables. Otras propiedades importantes de las tuplas son la posibilidad de hacer comparaciones y su condición de Hashables.   \n",
        "\n",
        "Por lo general la tupla se puede expresar de la siguiente manera: \n",
        "\n",
        "                      nombretupla = 1, 2, 3, 4, 5, 6\n",
        "\n",
        "\n"
      ]
    },
    {
      "cell_type": "code",
      "metadata": {
        "colab": {
          "base_uri": "https://localhost:8080/"
        },
        "id": "U7niyHG-Cz2L",
        "outputId": "b97f00f6-3eee-48eb-d847-91d4a60ddf24"
      },
      "source": [
        "prueba_tupla = 1,2,3,4,5,6\n",
        "\n",
        "print(prueba_tupla)"
      ],
      "execution_count": null,
      "outputs": [
        {
          "output_type": "stream",
          "text": [
            "(1, 2, 3, 4, 5, 6)\n"
          ],
          "name": "stdout"
        }
      ]
    },
    {
      "cell_type": "markdown",
      "metadata": {
        "id": "PRF8mLJCCywC"
      },
      "source": [
        "\n",
        "Sin embargo, es común ver que se represente en python con sus valores entre parentesis: \n",
        "\n",
        "                        nombretupla = (1, 2, 3, 4, 5, 6)\n",
        "\n",
        "Para declarar una tupla de un solo valor y diferencias de una variable normal, se debe poner la coma al final del valor así:\n",
        "\n",
        "                         nombretupla = ( 1, )"
      ]
    },
    {
      "cell_type": "markdown",
      "metadata": {
        "id": "VJKXq4DBCdy0"
      },
      "source": [
        "\n",
        "\n",
        "Las comparaciones entre tuplas, siguiendo la lógica de python, se hacen tomando el primer elemento de cada conjunto, si estos son iguales, continua con el siguiente elemento, y así sucesivamente hasta que pueda distinguir una diferencia. \n",
        "\n"
      ]
    },
    {
      "cell_type": "code",
      "metadata": {
        "id": "sW5ndu-XCUEj"
      },
      "source": [
        "x , y = 5 , 6 "
      ],
      "execution_count": 1,
      "outputs": []
    },
    {
      "cell_type": "code",
      "metadata": {
        "id": "RDc75KmdGeTr",
        "outputId": "7439971f-3eb5-4ea9-de63-e80c37c7375d",
        "colab": {
          "base_uri": "https://localhost:8080/"
        }
      },
      "source": [
        "x, y"
      ],
      "execution_count": 2,
      "outputs": [
        {
          "output_type": "execute_result",
          "data": {
            "text/plain": [
              "(5, 6)"
            ]
          },
          "metadata": {
            "tags": []
          },
          "execution_count": 2
        }
      ]
    },
    {
      "cell_type": "code",
      "metadata": {
        "id": "pNGr7KTZBPk7"
      },
      "source": [
        ""
      ],
      "execution_count": null,
      "outputs": []
    }
  ]
}