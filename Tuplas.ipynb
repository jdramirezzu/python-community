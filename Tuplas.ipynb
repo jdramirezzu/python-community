{
  "nbformat": 4,
  "nbformat_minor": 0,
  "metadata": {
    "colab": {
      "name": "Untitled0.ipynb",
      "provenance": [],
      "collapsed_sections": [],
      "include_colab_link": true
    },
    "kernelspec": {
      "name": "python3",
      "display_name": "Python 3"
    }
  },
  "cells": [
    {
      "cell_type": "markdown",
      "metadata": {
        "id": "view-in-github",
        "colab_type": "text"
      },
      "source": [
        "<a href=\"https://colab.research.google.com/github/jdramirezzu/python-community/blob/main/Tuplas.ipynb\" target=\"_parent\"><img src=\"https://colab.research.google.com/assets/colab-badge.svg\" alt=\"Open In Colab\"/></a>"
      ]
    },
    {
      "cell_type": "markdown",
      "metadata": {
        "id": "6rDpsqVyBql0"
      },
      "source": [
        "# TUPLAS"
      ]
    },
    {
      "cell_type": "markdown",
      "metadata": {
        "id": "yFklUHkDBkPL"
      },
      "source": [
        "Una tupla es una secuencia de valores similar a una lista. Los valores guardados en una tupla pueden ser de cualquier tipo, y son indexados por números enteros.La principal diferencia es que las tuplas soninmutables. Las tuplas además son comparables y dispersables(hashables) de modo que las listas de tuplas se pueden ordenar y también usar tuplas como valores para las claves en diccionarios de Python.\n",
        "\n",
        "Por lo general la tupla se puede expresar de la siguiente manera: \n",
        "\n",
        "                      nombretupla = 1, 2, 3, 4, 5, 6\n",
        "\n",
        "\n"
      ]
    },
    {
      "cell_type": "code",
      "metadata": {
        "colab": {
          "base_uri": "https://localhost:8080/"
        },
        "id": "U7niyHG-Cz2L",
        "outputId": "b97f00f6-3eee-48eb-d847-91d4a60ddf24"
      },
      "source": [
        "prueba_tupla = 1,2,3,4,5,6\n",
        "\n",
        "print(prueba_tupla)"
      ],
      "execution_count": null,
      "outputs": [
        {
          "output_type": "stream",
          "text": [
            "(1, 2, 3, 4, 5, 6)\n"
          ],
          "name": "stdout"
        }
      ]
    },
    {
      "cell_type": "markdown",
      "metadata": {
        "id": "PRF8mLJCCywC"
      },
      "source": [
        "\n",
        "Sin embargo, es común ver que se represente en python con sus valores entre parentesis: \n",
        "\n",
        "                        nombretupla = (1, 2, 3, 4, 5, 6)\n",
        "\n",
        "Para declarar una tupla de un solo valor y diferencias de una variable normal, se debe poner la coma al final del valor así:\n",
        "\n",
        "                         nombretupla = ( 1, )"
      ]
    },
    {
      "cell_type": "code",
      "metadata": {
        "id": "o3EXkfFu57vA",
        "outputId": "18521112-6e71-4cfe-ba7b-9774f49418c5",
        "colab": {
          "base_uri": "https://localhost:8080/"
        }
      },
      "source": [
        "t1=('a',)\n",
        "type(t1)"
      ],
      "execution_count": 1,
      "outputs": [
        {
          "output_type": "execute_result",
          "data": {
            "text/plain": [
              "tuple"
            ]
          },
          "metadata": {
            "tags": []
          },
          "execution_count": 1
        }
      ]
    },
    {
      "cell_type": "markdown",
      "metadata": {
        "id": "_PklOGIs6FYc"
      },
      "source": [
        "Sin la coma, Python considera ('a') como una expresión con una cadena entre paréntesis que es evaluada como de tipo cadena (string)"
      ]
    },
    {
      "cell_type": "code",
      "metadata": {
        "id": "hBbd1o956Keu"
      },
      "source": [
        "t2=('a')\n",
        "type(t2)"
      ],
      "execution_count": null,
      "outputs": []
    },
    {
      "cell_type": "markdown",
      "metadata": {
        "id": "lswmPelR6VPv"
      },
      "source": [
        "Otra forma de construir una tupla es utilizando la función interna tuple.  Sin argumentos, ésta crea una tupla vacía:"
      ]
    },
    {
      "cell_type": "code",
      "metadata": {
        "id": "d6P6UQw56Z43"
      },
      "source": [
        "t = tuple()\n",
        "print(t)"
      ],
      "execution_count": null,
      "outputs": []
    },
    {
      "cell_type": "markdown",
      "metadata": {
        "id": "2uaA1LN_6fL0"
      },
      "source": [
        "Si el argumento es una secuencia (cadena, lista, o tupla), el resultado de la llamada a tuple es una tupla con los elementos de la secuencia:"
      ]
    },
    {
      "cell_type": "code",
      "metadata": {
        "id": "n-KwWvVn770_"
      },
      "source": [
        "t=tuple('altramuces')\n",
        "print(t)"
      ],
      "execution_count": null,
      "outputs": []
    },
    {
      "cell_type": "markdown",
      "metadata": {
        "id": "aHoz1mWF8Bda"
      },
      "source": [
        "Dado que tuple es el nombre de un constructor, debería evitarse su uso como nombre de variable.La mayoría de los operadores de listas también funcionan en tuplas. El operador corchete indexa un elemento:"
      ]
    },
    {
      "cell_type": "code",
      "metadata": {
        "id": "Pq-L11iA8Ip1"
      },
      "source": [
        "t=('a','b','c','d','e')\n",
        "print(t[0])"
      ],
      "execution_count": null,
      "outputs": []
    },
    {
      "cell_type": "markdown",
      "metadata": {
        "id": "loN4u8KI8OJ4"
      },
      "source": [
        "Y el operador de rebanado (slice) selecciona un rango de elementos."
      ]
    },
    {
      "cell_type": "code",
      "metadata": {
        "id": "7u2p2wO_8Ttv"
      },
      "source": [
        "print(t[1:3])"
      ],
      "execution_count": null,
      "outputs": []
    },
    {
      "cell_type": "markdown",
      "metadata": {
        "id": "MM3Q_rMV8WyJ"
      },
      "source": [
        "Pero si se intenta modificar uno de los elementos de la tupla, se produce un error:"
      ]
    },
    {
      "cell_type": "code",
      "metadata": {
        "id": "951-bUmT8cNx"
      },
      "source": [
        "t[0]='A'"
      ],
      "execution_count": null,
      "outputs": []
    },
    {
      "cell_type": "markdown",
      "metadata": {
        "id": "dEs99Yv1884J"
      },
      "source": [
        "No se puede modificar los elementos de una tupla, pero sí se puede reemplazar una tupla por otra:"
      ]
    },
    {
      "cell_type": "code",
      "metadata": {
        "id": "IYPU9eff8-Xn"
      },
      "source": [
        "t=('A',)+t[1:]\n",
        "print(t)"
      ],
      "execution_count": null,
      "outputs": []
    },
    {
      "cell_type": "markdown",
      "metadata": {
        "id": "geO0tRe49H2b"
      },
      "source": [
        "Los operadores de comparación funcionan con tuplas y otras secuencias. Python comienza comparando el primer elemento de cada secuencia. Si ambos elementos son iguales, pasa al siguiente elemento y así sucesivamente, hasta que encuentra elementos diferentes.  Los elementos subsecuentes no son considerados (aunque sean muy grandes)."
      ]
    },
    {
      "cell_type": "code",
      "metadata": {
        "id": "bd9tLGlt9OEr"
      },
      "source": [
        "(0,1,2)<(0,3,4)"
      ],
      "execution_count": null,
      "outputs": []
    },
    {
      "cell_type": "code",
      "metadata": {
        "id": "IxjXOq9-9UCo"
      },
      "source": [
        "(0,1,2000000)<(0,3,4)"
      ],
      "execution_count": null,
      "outputs": []
    },
    {
      "cell_type": "markdown",
      "metadata": {
        "id": "Yup9OYn79d7y"
      },
      "source": [
        "La función sort funciona de la misma manera. Ordena inicialmente por el primer elemento, pero en el caso de que ambos elementos sean iguales, ordena por elsegundo elemento, y así sucesivamente."
      ]
    },
    {
      "cell_type": "markdown",
      "metadata": {
        "id": "GRm8RO0l963c"
      },
      "source": [
        "Esta característica se presta a un patrón de diseño llamado DSU, que \n",
        "\n",
        "\n",
        "**Decorate (Decora)**una secuencia, construyendo una lista de tuplas con uno o ás índices ordenados precediendo los elementos de la secuencia,**Sort (Ordena)**la lista de tuplas utilizando la función interna sort, y **Undecorate (Quita la decoración)**extrayendo los elementos ordenados de la secuencia."
      ]
    },
    {
      "cell_type": "markdown",
      "metadata": {
        "id": "dZUgDlq_-mW8"
      },
      "source": [
        "Por ejemplo, suponiendo una lista de palabras que se quieren ordenar de la más larga a la más corta"
      ]
    },
    {
      "cell_type": "code",
      "metadata": {
        "id": "_Ue0vmc8_B35"
      },
      "source": [
        "txt='Pero qué luz se deja ver allí'\n",
        "palabras=txt.split()\n",
        "t=list()"
      ],
      "execution_count": null,
      "outputs": []
    },
    {
      "cell_type": "markdown",
      "metadata": {
        "id": "mH8yTEBK-zgU"
      },
      "source": [
        "El primer bucle genera una lista de tuplas, donde cada tupla es una palabra precedida por su longitud."
      ]
    },
    {
      "cell_type": "code",
      "metadata": {
        "id": "3_gJEKrk-aSY"
      },
      "source": [
        "for palabra in palabras:\n",
        "  t.append((len(palabra), palabra))"
      ],
      "execution_count": null,
      "outputs": []
    },
    {
      "cell_type": "markdown",
      "metadata": {
        "id": "mHoJjkWO_DTl"
      },
      "source": [
        "**sort** compara el primer elemento (longitud) primero, y solamente considera elsegundo elemento para desempatar. El argumento clave reverse=True indica a sort que debe ir en orden decreciente"
      ]
    },
    {
      "cell_type": "code",
      "metadata": {
        "id": "xa0I-Z9B-50f"
      },
      "source": [
        "t.sort(reverse=True)"
      ],
      "execution_count": null,
      "outputs": []
    },
    {
      "cell_type": "markdown",
      "metadata": {
        "id": "m0QG0FEV_Scv"
      },
      "source": [
        "El segundo bucle recorre la lista de tuplas y construye una lista de palabras en orden descendente según la longitud. Las palabras de cuatro letras están ordenadasen orden alfabético inverso, así que “deja” aparece antes que “allí” en la siguientelista"
      ]
    },
    {
      "cell_type": "code",
      "metadata": {
        "id": "u32TI-zl_XOU"
      },
      "source": [
        "res=list()\n",
        "for longitud,palabra in t:\n",
        "  res.append(palabra)\n",
        "\n",
        "print(res)"
      ],
      "execution_count": null,
      "outputs": []
    },
    {
      "cell_type": "code",
      "metadata": {
        "id": "0NG1x2D0_6QC"
      },
      "source": [
        ""
      ],
      "execution_count": null,
      "outputs": []
    },
    {
      "cell_type": "markdown",
      "metadata": {
        "id": "MlrG3rHy_uGG"
      },
      "source": [
        "# Asignación de tuplas"
      ]
    },
    {
      "cell_type": "markdown",
      "metadata": {
        "id": "R-FJEny2_yfb"
      },
      "source": [
        "Una de las características sintácticas únicas del lenguaje Python es la capacidad detener una tupla en el lado izquierdo de una sentencia de asignación. Esto permite asignar más de una variable a la vez cuando hay una secuencia del lado izquierdo."
      ]
    },
    {
      "cell_type": "markdown",
      "metadata": {
        "id": "Qthb1_LtAjDf"
      },
      "source": [
        ""
      ]
    },
    {
      "cell_type": "code",
      "metadata": {
        "id": "55GjtbkG_7Un"
      },
      "source": [
        "m=['pásalo','bien']\n",
        "x, y = m"
      ],
      "execution_count": null,
      "outputs": []
    },
    {
      "cell_type": "markdown",
      "metadata": {
        "id": "JCrXDr12ACJn"
      },
      "source": [
        "Python traduce aproximadamente la sintaxis de asignación de la tupla de este modo"
      ]
    },
    {
      "cell_type": "code",
      "metadata": {
        "id": "3kqq3Nc9Aj0f"
      },
      "source": [
        "m=['pásalo','bien']\n",
        "x=m[0]\n",
        "y=m[1]"
      ],
      "execution_count": null,
      "outputs": []
    },
    {
      "cell_type": "markdown",
      "metadata": {
        "id": "GVDF-wfIAo81"
      },
      "source": [
        "Una aplicación particularmente ingeniosa de asignación con tuplas permite intercambiar los valores de dos variables en una sola sentencia:"
      ]
    },
    {
      "cell_type": "code",
      "metadata": {
        "id": "mVN6Og2yAyAe"
      },
      "source": [
        "a, b = b, a"
      ],
      "execution_count": null,
      "outputs": []
    },
    {
      "cell_type": "markdown",
      "metadata": {
        "id": "q-4_kA1cA2Rl"
      },
      "source": [
        "Ambos lados de la sentencia son tuplas, pero el lado izquierdo es una tupla de variables; el lado derecho es una tupla de expresiones. Cada valor en el lado derecho es asignado a su respectiva variable en el lado izquierdo. Todas las expresiones enel lado derecho son evaluadas antes de realizar cualquier asignación"
      ]
    },
    {
      "cell_type": "markdown",
      "metadata": {
        "id": "RWp08t5_BAUl"
      },
      "source": [
        "El número de variables en el lado izquierdo y el número de valores en el ladoderecho deben ser iguales:"
      ]
    },
    {
      "cell_type": "code",
      "metadata": {
        "id": "6NPiyvdqA911"
      },
      "source": [
        "a, b= 1,2,3"
      ],
      "execution_count": null,
      "outputs": []
    },
    {
      "cell_type": "markdown",
      "metadata": {
        "id": "nFB6Y0yGBFJT"
      },
      "source": [
        "Generalizando más, el lado derecho puede ser cualquier tipo de secuencia (cadena,lista, o tupla. Por ejemplo, para dividir una dirección de e-mail en nombre deusuario y dominio, se podría escribir:"
      ]
    },
    {
      "cell_type": "code",
      "metadata": {
        "id": "ZhVJj7yUBNn1"
      },
      "source": [
        "dir ='monty@python.org'\n",
        "nombre, dominio = dir.split('@')"
      ],
      "execution_count": 4,
      "outputs": []
    },
    {
      "cell_type": "markdown",
      "metadata": {
        "id": "VQ9HrBsuBYet"
      },
      "source": [
        "El valor de retorno de splites una lista con dos elementos; el primer elemento es asignado a nombre, el segundo a dominio."
      ]
    },
    {
      "cell_type": "code",
      "metadata": {
        "id": "5ogGdj6KBgCv",
        "outputId": "151df5cb-1039-44eb-8367-4e838d739cea",
        "colab": {
          "base_uri": "https://localhost:8080/",
          "height": 35
        }
      },
      "source": [
        "nombre"
      ],
      "execution_count": 5,
      "outputs": [
        {
          "output_type": "execute_result",
          "data": {
            "application/vnd.google.colaboratory.intrinsic+json": {
              "type": "string"
            },
            "text/plain": [
              "'monty'"
            ]
          },
          "metadata": {
            "tags": []
          },
          "execution_count": 5
        }
      ]
    },
    {
      "cell_type": "code",
      "metadata": {
        "id": "H7BgP7VXBjmk",
        "outputId": "25375273-8d19-4f4c-c448-a3bea3b6b6ea",
        "colab": {
          "base_uri": "https://localhost:8080/",
          "height": 35
        }
      },
      "source": [
        "dominio"
      ],
      "execution_count": 6,
      "outputs": [
        {
          "output_type": "execute_result",
          "data": {
            "application/vnd.google.colaboratory.intrinsic+json": {
              "type": "string"
            },
            "text/plain": [
              "'python.org'"
            ]
          },
          "metadata": {
            "tags": []
          },
          "execution_count": 6
        }
      ]
    },
    {
      "cell_type": "markdown",
      "metadata": {
        "id": "rANX15xHBoF5"
      },
      "source": [
        "# Diccionarios y tuplas"
      ]
    },
    {
      "cell_type": "markdown",
      "metadata": {
        "id": "dIKoH4t5BlZj"
      },
      "source": [
        "Los diccionarios tienen un método llamado items que retorna una lista de tuplas,donde cada tupla es un par clave-valor:"
      ]
    },
    {
      "cell_type": "code",
      "metadata": {
        "id": "3Vw4inMtBwZQ"
      },
      "source": [
        "d={'a':10,'b':1,'c':22}\n",
        "t=list(d.items())\n",
        "print(t)"
      ],
      "execution_count": null,
      "outputs": []
    },
    {
      "cell_type": "markdown",
      "metadata": {
        "id": "bk6duWotB2nT"
      },
      "source": [
        "Convertir un diccionario en una lista de tuplas es una forma de obtener el contenido de un diccionario ordenado según sus claves:"
      ]
    },
    {
      "cell_type": "code",
      "metadata": {
        "id": "WerWNUrGB_gN"
      },
      "source": [
        "d={'a':10,'b':1,'c':22}\n",
        "t=list(d.items())\n",
        "t[('b',1), ('a',10), ('c',22)]\n",
        "t.sort()\n"
      ],
      "execution_count": null,
      "outputs": []
    },
    {
      "cell_type": "markdown",
      "metadata": {
        "id": "JAXbwGQMCJhW"
      },
      "source": [
        "La combinación de items, asignación de tuplas, y for, produce un buen patrón de diseño de código para recorrer las claves y valores de un diccionario en un único bucle:"
      ]
    },
    {
      "cell_type": "code",
      "metadata": {
        "id": "QsYaIffGCR2u"
      },
      "source": [
        "for clave, valor in list(d.items()):\n",
        "  print(valor, clave)"
      ],
      "execution_count": null,
      "outputs": []
    },
    {
      "cell_type": "markdown",
      "metadata": {
        "id": "8dydeMkfCYGy"
      },
      "source": [
        "Este bucle tiene dos variables de iteración, debido a que items retorna una lista de tuplas y clave, valores una asignación en tupla que itera sucesivamente através de cada uno de los pares clave-valor del diccionario"
      ]
    },
    {
      "cell_type": "code",
      "metadata": {
        "id": "pVTOxi5HChM0"
      },
      "source": [
        "d={'a':10,'b':1,'c':22}\n",
        "l=list()\n",
        "for clave, valor in d.items():\n",
        "  l.append((valor, clave))"
      ],
      "execution_count": null,
      "outputs": []
    },
    {
      "cell_type": "markdown",
      "metadata": {
        "id": "gxBTukNwCz9h"
      },
      "source": [
        "Al construir cuidadosamente la lista de tuplas para tener el valor como el primerelemento de cada tupla, es posible ordenar la lista de tuplas y obtener el contenidode un diccionario ordenado por valor."
      ]
    },
    {
      "cell_type": "code",
      "metadata": {
        "id": "MLo6NSkDC5Sc"
      },
      "source": [
        "l"
      ],
      "execution_count": null,
      "outputs": []
    },
    {
      "cell_type": "code",
      "metadata": {
        "id": "EN6nZgTBC-_I"
      },
      "source": [
        "l.sort(reverse=True)"
      ],
      "execution_count": null,
      "outputs": []
    },
    {
      "cell_type": "code",
      "metadata": {
        "id": "vdF-afUKDCUr"
      },
      "source": [
        "l"
      ],
      "execution_count": null,
      "outputs": []
    },
    {
      "cell_type": "markdown",
      "metadata": {
        "id": "1bD78N1bDQUh"
      },
      "source": [
        "Dado que las tuplas son dispersables(hashable)y las listas no, si se quiere crearuna clavecompuestapara usar en un diccionario, se debe utilizar una tupla como clave.Usaríamos por ejemplo una clave compuesta si quisiéramos crear un directoriotelefónico que mapea pares apellido, nombre con números telefónicos. Asumiendo que hemos definido las variables apellido,nombre, y número, podríamos escribir una sentencia de asignación de diccionario como sigue:"
      ]
    },
    {
      "cell_type": "code",
      "metadata": {
        "id": "g5K2vh2XDePm"
      },
      "source": [
        "directorio[apellido,nombre]=numero"
      ],
      "execution_count": null,
      "outputs": []
    },
    {
      "cell_type": "markdown",
      "metadata": {
        "id": "60o-ZfWWDiCd"
      },
      "source": [
        "La expresión entre corchetes es una tupla. Podríamos utilizar asignación de tuplas en un bucle for para recorrer este diccionario."
      ]
    },
    {
      "cell_type": "code",
      "metadata": {
        "id": "7wBl-JERDqyM"
      },
      "source": [
        "for apellido, nombre in directorio:\n",
        "  print(nombre, apellido, directorio[apellido,nombre])"
      ],
      "execution_count": null,
      "outputs": []
    },
    {
      "cell_type": "markdown",
      "metadata": {
        "id": "dVIPQ0osD9dI"
      },
      "source": [
        "**RETO:**  Escribe un programa que lee un archivo e imprime las letras en order decreciente de frecuencia. El programa debe convertir todas las entradas a minúsculas y contar solamente las letras a-z.El programa no debe contar espacios, dígitos, signos de puntuación,o cualquier cosa que no sean las letras a-z.  Encuentra ejemplos de texto en idiomas diferentes, y observa cómo la frecuencia de letras es diferente en cada idioma.  Compara tus resultados con las tablas en https://es.wikipedia.org/wiki/Frecuencia_de_aparici%C3%B3n_de_letras."
      ]
    },
    {
      "cell_type": "markdown",
      "metadata": {
        "id": "yko_BP5ZEPv_"
      },
      "source": [
        "**Bibliografia**\n",
        "\n",
        "Python para todos - Charles R. Severance"
      ]
    }
  ]
}